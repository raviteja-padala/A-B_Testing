{
 "cells": [
  {
   "cell_type": "markdown",
   "id": "05e30beb",
   "metadata": {},
   "source": [
    "#### Raviteja Padala\n",
    "<img align=\"left\" img src= in.png height = 20 width=\"20\"/>   https://www.linkedin.com/in/raviteja-padala/ <br>\n",
    "\n",
    "<img align=\"left\" img src= github.png height = 20 width=\"20\"/> https://github.com/raviteja-padala\n"
   ]
  },
  {
   "cell_type": "markdown",
   "id": "a8784c39",
   "metadata": {},
   "source": [
    "# <span style='color:Blue'> Objective :  </span> To know, understand and perform A/B testing on Conversions and Revenue data."
   ]
  },
  {
   "cell_type": "code",
   "execution_count": 1,
   "id": "24d4c8f4",
   "metadata": {},
   "outputs": [],
   "source": [
    "#import libraries\n",
    "import pandas as pd"
   ]
  },
  {
   "cell_type": "code",
   "execution_count": 3,
   "id": "e12bb559",
   "metadata": {},
   "outputs": [
    {
     "data": {
      "text/html": [
       "<div>\n",
       "<style scoped>\n",
       "    .dataframe tbody tr th:only-of-type {\n",
       "        vertical-align: middle;\n",
       "    }\n",
       "\n",
       "    .dataframe tbody tr th {\n",
       "        vertical-align: top;\n",
       "    }\n",
       "\n",
       "    .dataframe thead th {\n",
       "        text-align: right;\n",
       "    }\n",
       "</style>\n",
       "<table border=\"1\" class=\"dataframe\">\n",
       "  <thead>\n",
       "    <tr style=\"text-align: right;\">\n",
       "      <th></th>\n",
       "      <th>User ID</th>\n",
       "      <th>Group</th>\n",
       "      <th>Clicks</th>\n",
       "      <th>Conversions</th>\n",
       "      <th>Revenue($)</th>\n",
       "      <th>Age</th>\n",
       "      <th>Gender</th>\n",
       "    </tr>\n",
       "  </thead>\n",
       "  <tbody>\n",
       "    <tr>\n",
       "      <th>0</th>\n",
       "      <td>1</td>\n",
       "      <td>A</td>\n",
       "      <td>10</td>\n",
       "      <td>2</td>\n",
       "      <td>50</td>\n",
       "      <td>25</td>\n",
       "      <td>Male</td>\n",
       "    </tr>\n",
       "    <tr>\n",
       "      <th>1</th>\n",
       "      <td>2</td>\n",
       "      <td>B</td>\n",
       "      <td>8</td>\n",
       "      <td>1</td>\n",
       "      <td>35</td>\n",
       "      <td>32</td>\n",
       "      <td>Female</td>\n",
       "    </tr>\n",
       "    <tr>\n",
       "      <th>2</th>\n",
       "      <td>3</td>\n",
       "      <td>A</td>\n",
       "      <td>12</td>\n",
       "      <td>3</td>\n",
       "      <td>70</td>\n",
       "      <td>41</td>\n",
       "      <td>Male</td>\n",
       "    </tr>\n",
       "    <tr>\n",
       "      <th>3</th>\n",
       "      <td>4</td>\n",
       "      <td>B</td>\n",
       "      <td>9</td>\n",
       "      <td>2</td>\n",
       "      <td>45</td>\n",
       "      <td>37</td>\n",
       "      <td>Female</td>\n",
       "    </tr>\n",
       "    <tr>\n",
       "      <th>4</th>\n",
       "      <td>5</td>\n",
       "      <td>A</td>\n",
       "      <td>11</td>\n",
       "      <td>2</td>\n",
       "      <td>55</td>\n",
       "      <td>29</td>\n",
       "      <td>Male</td>\n",
       "    </tr>\n",
       "  </tbody>\n",
       "</table>\n",
       "</div>"
      ],
      "text/plain": [
       "   User ID Group  Clicks  Conversions  Revenue($)  Age  Gender\n",
       "0        1     A      10            2          50   25    Male\n",
       "1        2     B       8            1          35   32  Female\n",
       "2        3     A      12            3          70   41    Male\n",
       "3        4     B       9            2          45   37  Female\n",
       "4        5     A      11            2          55   29    Male"
      ]
     },
     "execution_count": 3,
     "metadata": {},
     "output_type": "execute_result"
    }
   ],
   "source": [
    "#import data\n",
    "df = pd.read_csv(\"https://raw.githubusercontent.com/raviteja-padala/Datasets/main/clicks_conversions.csv\")\n",
    "df.head()"
   ]
  },
  {
   "cell_type": "code",
   "execution_count": 4,
   "id": "0a2ec8bf",
   "metadata": {},
   "outputs": [
    {
     "data": {
      "text/plain": [
       "(200, 7)"
      ]
     },
     "execution_count": 4,
     "metadata": {},
     "output_type": "execute_result"
    }
   ],
   "source": [
    "#shape of dataset\n",
    "df.shape"
   ]
  },
  {
   "cell_type": "code",
   "execution_count": 6,
   "id": "f90a6b12",
   "metadata": {},
   "outputs": [
    {
     "name": "stdout",
     "output_type": "stream",
     "text": [
      "<class 'pandas.core.frame.DataFrame'>\n",
      "RangeIndex: 200 entries, 0 to 199\n",
      "Data columns (total 7 columns):\n",
      " #   Column       Non-Null Count  Dtype \n",
      "---  ------       --------------  ----- \n",
      " 0   User ID      200 non-null    int64 \n",
      " 1   Group        200 non-null    object\n",
      " 2   Clicks       200 non-null    int64 \n",
      " 3   Conversions  200 non-null    int64 \n",
      " 4   Revenue($)   200 non-null    int64 \n",
      " 5   Age          200 non-null    int64 \n",
      " 6   Gender       200 non-null    object\n",
      "dtypes: int64(5), object(2)\n",
      "memory usage: 11.1+ KB\n"
     ]
    }
   ],
   "source": [
    "#info fo dataset\n",
    "df.info()"
   ]
  },
  {
   "cell_type": "code",
   "execution_count": 7,
   "id": "47ffb912",
   "metadata": {},
   "outputs": [
    {
     "data": {
      "text/plain": [
       "User ID        0\n",
       "Group          0\n",
       "Clicks         0\n",
       "Conversions    0\n",
       "Revenue($)     0\n",
       "Age            0\n",
       "Gender         0\n",
       "dtype: int64"
      ]
     },
     "execution_count": 7,
     "metadata": {},
     "output_type": "execute_result"
    }
   ],
   "source": [
    "#checking null values\n",
    "df.isnull().sum()"
   ]
  },
  {
   "cell_type": "markdown",
   "id": "bd1838cd",
   "metadata": {},
   "source": [
    "### Scenario: \n",
    "* In the dataset Group A are directed to control website page, Group B are directed to variant website page.\n",
    "\n",
    "### Goal:\n",
    "* To determine whether there is a significant difference in the conversion rates between Group A and Group B.\n",
    "\n",
    "### Hypothesis:\n",
    "* Null Hypothesis (H0): There is no significant difference in the conversion rates between Group A and Group B \n",
    "* Alternative Hypothesis (HA): There is a significant difference in the conversion rates between Group A and Group B "
   ]
  },
  {
   "cell_type": "markdown",
   "id": "f3c54cda",
   "metadata": {},
   "source": [
    "<img src= webpage_ab_test.png height = 400 width=\"800\"/>"
   ]
  },
  {
   "cell_type": "code",
   "execution_count": 15,
   "id": "39f88192",
   "metadata": {},
   "outputs": [
    {
     "data": {
      "text/plain": [
       "Group  Conversions\n",
       "A      2              56\n",
       "       1              27\n",
       "       3              27\n",
       "B      2              52\n",
       "       3              26\n",
       "       1              12\n",
       "Name: Conversions, dtype: int64"
      ]
     },
     "execution_count": 15,
     "metadata": {},
     "output_type": "execute_result"
    }
   ],
   "source": [
    "#checking conversions based on group\n",
    "df.groupby( 'Group')[ 'Conversions' ].value_counts()"
   ]
  },
  {
   "cell_type": "code",
   "execution_count": 16,
   "id": "8671abf3",
   "metadata": {},
   "outputs": [
    {
     "data": {
      "text/html": [
       "<div>\n",
       "<style scoped>\n",
       "    .dataframe tbody tr th:only-of-type {\n",
       "        vertical-align: middle;\n",
       "    }\n",
       "\n",
       "    .dataframe tbody tr th {\n",
       "        vertical-align: top;\n",
       "    }\n",
       "\n",
       "    .dataframe thead th {\n",
       "        text-align: right;\n",
       "    }\n",
       "</style>\n",
       "<table border=\"1\" class=\"dataframe\">\n",
       "  <thead>\n",
       "    <tr style=\"text-align: right;\">\n",
       "      <th>Conversions</th>\n",
       "      <th>1</th>\n",
       "      <th>2</th>\n",
       "      <th>3</th>\n",
       "    </tr>\n",
       "    <tr>\n",
       "      <th>Group</th>\n",
       "      <th></th>\n",
       "      <th></th>\n",
       "      <th></th>\n",
       "    </tr>\n",
       "  </thead>\n",
       "  <tbody>\n",
       "    <tr>\n",
       "      <th>A</th>\n",
       "      <td>27</td>\n",
       "      <td>56</td>\n",
       "      <td>27</td>\n",
       "    </tr>\n",
       "    <tr>\n",
       "      <th>B</th>\n",
       "      <td>12</td>\n",
       "      <td>52</td>\n",
       "      <td>26</td>\n",
       "    </tr>\n",
       "  </tbody>\n",
       "</table>\n",
       "</div>"
      ],
      "text/plain": [
       "Conversions   1   2   3\n",
       "Group                  \n",
       "A            27  56  27\n",
       "B            12  52  26"
      ]
     },
     "execution_count": 16,
     "metadata": {},
     "output_type": "execute_result"
    }
   ],
   "source": [
    "#Contingency Table\n",
    "contingency_data = pd.crosstab(df['Group'],df['Conversions'])\n",
    "contingency_data"
   ]
  },
  {
   "cell_type": "code",
   "execution_count": 18,
   "id": "5d767e5b",
   "metadata": {},
   "outputs": [],
   "source": [
    "# checking conversions of Group-A and Group-B\n",
    "\n",
    "group_a_data = df[df['Group'] == 'A']['Conversions']\n",
    "group_b_data = df[df['Group'] == 'B']['Conversions']"
   ]
  },
  {
   "cell_type": "code",
   "execution_count": 20,
   "id": "e988438a",
   "metadata": {},
   "outputs": [
    {
     "name": "stdout",
     "output_type": "stream",
     "text": [
      "Conversions of group A = 110 , Conversions of group B = 90\n"
     ]
    }
   ],
   "source": [
    "print(f\"Conversions of group A = {group_a_data.count()} , Conversions of group B = {group_b_data.count()}\" )"
   ]
  },
  {
   "cell_type": "code",
   "execution_count": 23,
   "id": "1b6c888d",
   "metadata": {},
   "outputs": [
    {
     "name": "stdout",
     "output_type": "stream",
     "text": [
      "Conversion Rate for Group A: 200.00%\n",
      "Conversion Rate for Group B: 215.56%\n"
     ]
    }
   ],
   "source": [
    "# Calculate conversion rates\n",
    "conversion_rate_a = df[df['Group'] == 'A']['Conversions'].mean()\n",
    "conversion_rate_b = df[df['Group'] == 'B']['Conversions'].mean()\n",
    "\n",
    "# Print the results\n",
    "print(\"Conversion Rate for Group A: {:.2%}\".format(conversion_rate_a))\n",
    "print(\"Conversion Rate for Group B: {:.2%}\".format(conversion_rate_b))\n"
   ]
  },
  {
   "cell_type": "code",
   "execution_count": 22,
   "id": "710995b3",
   "metadata": {},
   "outputs": [
    {
     "name": "stdout",
     "output_type": "stream",
     "text": [
      "Test statistic=-1.625, p_values=0.106\n",
      "The results are not statistically significant.\n"
     ]
    }
   ],
   "source": [
    "#Conduct statistical test to compare the two groups. One common test for A/B testing is the independent t-test\n",
    "\n",
    "#import library\n",
    "import scipy.stats as stats\n",
    "\n",
    "#statistical test\n",
    "\n",
    "t_statistic, p_value = stats.ttest_ind(group_a_data, group_b_data)\n",
    "\n",
    "print('Test statistic=%.3f, p_values=%.3f' % (t_statistic, p_value))\n",
    "\n",
    "alpha = 0.05  # significance level\n",
    "if p_value < alpha:\n",
    "    print(\"The results are statistically significant.\")\n",
    "else:\n",
    "    print(\"The results are not statistically significant.\")"
   ]
  },
  {
   "cell_type": "code",
   "execution_count": 42,
   "id": "30fc75f2",
   "metadata": {},
   "outputs": [
    {
     "name": "stdout",
     "output_type": "stream",
     "text": [
      "Mann-Whitney U statistic: 4369.0\n",
      "p-value: 0.11466275833600062\n",
      "p-value is above significance level, fail to reject null hypothesis, there is no significant difference in the conversion rates\n"
     ]
    }
   ],
   "source": [
    "# Import the necessary library\n",
    "import scipy.stats as stats\n",
    "\n",
    "# Perform the Mann-Whitney U test\n",
    "u_statistic, p_value = stats.mannwhitneyu(df[df['Group'] == 'A']['Conversions'], df[df['Group'] == 'B']['Conversions'])\n",
    "\n",
    "# Print the results\n",
    "print(\"Mann-Whitney U statistic:\", u_statistic)\n",
    "print(\"p-value:\", p_value)\n",
    "\n",
    "\n",
    "alpha = 0.05  # significance level\n",
    "if p_value < alpha:\n",
    "    print(\"p-value is BELOW significance level, reject null hypothesis, there is significant difference in the conversion rates\")\n",
    "else:\n",
    "    print(\"p-value is above significance level, fail to reject null hypothesis, there is no significant difference in the conversion rates\")"
   ]
  },
  {
   "cell_type": "markdown",
   "id": "d86a8ba7",
   "metadata": {},
   "source": [
    "<span style='color:Blue'> **Observation:** </span>\n",
    "\n",
    "Since the p-value is greater than the significance level (e.g., 0.05), we fail to reject the null hypothesis. This means that there is not enough evidence to support the claim of a significant difference in the conversion rates between Group A and Group B.\n",
    "\n",
    "Therefore, based on the available data, we do not have sufficient statistical evidence to conclude that there is a significant difference in the conversion rates between Group A and Group B . It is possible that any observed difference in conversion rates between the two groups may be due to random chance rather than a true difference in the effectiveness of the implementations.\n",
    "\n",
    "Based on the Mann-Whitney U test, the ranking of the conversion data does not indicate a significant difference between the two groups. This means that the observed difference in conversion rates could likely be attributed to random chance rather than a true difference in the effectiveness of the implementations.\n",
    "\n",
    "It's important to note that failing to reject the null hypothesis does not necessarily imply that the conversion rates are exactly the same in both groups. There could still be some differences, but they are not statistically significant based on the given data.\n",
    "\n",
    "Further analysis or a larger sample size may be required to obtain more conclusive results. Additionally, consider exploring other metrics or conducting additional experiments to gain a deeper understanding of the impact of different implementations on conversions."
   ]
  },
  {
   "cell_type": "code",
   "execution_count": 43,
   "id": "ac8b1df2",
   "metadata": {},
   "outputs": [],
   "source": [
    "#performing AB tests for multiple variables\n",
    "\n",
    "group_a_ = df[df['Group'] == 'A']\n",
    "group_b_ = df[df['Group'] == 'B']\n"
   ]
  },
  {
   "cell_type": "code",
   "execution_count": 46,
   "id": "a6a082ab",
   "metadata": {},
   "outputs": [],
   "source": [
    "variables = ['Conversions', 'Revenue($)', 'Clicks']\n"
   ]
  },
  {
   "cell_type": "code",
   "execution_count": 50,
   "id": "5e14ffcf",
   "metadata": {},
   "outputs": [
    {
     "name": "stdout",
     "output_type": "stream",
     "text": [
      "Variable: Conversions\n",
      "t_statistic: -1.62490817309916, p-value:0.10577284999636533\n",
      "The results are not statistically significant.\n",
      "\n",
      "Variable: Revenue($)\n",
      "t_statistic: -1.0770122388449817, p-value:0.2827852639406191\n",
      "The results are not statistically significant.\n",
      "\n",
      "Variable: Clicks\n",
      "t_statistic: 1.7083106768948215, p-value:0.08914585223402866\n",
      "The results are not statistically significant.\n",
      "\n"
     ]
    }
   ],
   "source": [
    "for variable in variables:\n",
    "    group_a_variable = group_a_[variable]\n",
    "    group_b_variable = group_b_[variable]\n",
    "    \n",
    "    t_statistic, p_value = stats.ttest_ind(group_a_variable, group_b_variable)\n",
    "    \n",
    "    alpha = 0.05  # significance level\n",
    "    \n",
    "    print(f\"Variable: {variable}\")\n",
    "    print(f\"t_statistic: {t_statistic}, p-value:{p_value}\")\n",
    "    if p_value < alpha:\n",
    "        print(\"The results are statistically significant.\")\n",
    "    else:\n",
    "        print(\"The results are not statistically significant.\")\n",
    "    print()\n"
   ]
  },
  {
   "cell_type": "markdown",
   "id": "f0d6e5b1",
   "metadata": {},
   "source": [
    "<span style='color:Blue'> **Observation:** </span>\n",
    "\n",
    "When the results are not statistically significant, it is important to interpret the findings cautiously and avoid making strong conclusions or taking actions solely based on the data. It may be necessary to gather more data or re-evaluate the experimental design or intervention to identify potential improvements or factors that could affect the outcome.\n",
    "\n",
    "Remember that statistical significance is just one aspect of the analysis, and it is essential to consider the context, effect size, practical significance, and other relevant factors when interpreting the results and making decisions."
   ]
  },
  {
   "cell_type": "markdown",
   "id": "276e3007",
   "metadata": {},
   "source": [
    "### Conclusion: We have performed A/B testing on given data and observed that There is no significant difference in the conversion rates between Group A and Group B. \n",
    "\n",
    "\n",
    "## Thank you for reading all the way to the end."
   ]
  }
 ],
 "metadata": {
  "kernelspec": {
   "display_name": "Python 3 (ipykernel)",
   "language": "python",
   "name": "python3"
  },
  "language_info": {
   "codemirror_mode": {
    "name": "ipython",
    "version": 3
   },
   "file_extension": ".py",
   "mimetype": "text/x-python",
   "name": "python",
   "nbconvert_exporter": "python",
   "pygments_lexer": "ipython3",
   "version": "3.9.12"
  }
 },
 "nbformat": 4,
 "nbformat_minor": 5
}
