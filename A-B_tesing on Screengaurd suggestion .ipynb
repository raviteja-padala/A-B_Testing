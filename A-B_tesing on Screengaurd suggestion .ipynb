{
 "cells": [
  {
   "cell_type": "markdown",
   "id": "d2c7b23a",
   "metadata": {},
   "source": [
    "#### Raviteja Padala\n",
    "<img align=\"left\" img src= in.png height = 20 width=\"20\"/>   https://www.linkedin.com/in/raviteja-padala/ <br>\n",
    "\n",
    "<img align=\"left\" img src= github.png height = 20 width=\"20\"/> https://github.com/raviteja-padala\n"
   ]
  },
  {
   "cell_type": "markdown",
   "id": "34648efa",
   "metadata": {},
   "source": [
    "# <span style='color:Blue'> Objective :  </span> To know, understand and perform A/B testing on Screengaurd suggestion data."
   ]
  },
  {
   "cell_type": "markdown",
   "id": "c895be86",
   "metadata": {},
   "source": [
    "### * Goal : To increase sales of mobile Screengaurds.\n",
    "\n",
    "### * Hypothesis to check:  \" Will suggestion type have impact on Screengaurd sales. i.e., will screen guards sell more when they are bundled or suggested with a mobile phone or when they are bundled or suggested with a mobile case.\" "
   ]
  },
  {
   "cell_type": "code",
   "execution_count": 2,
   "id": "78326d90",
   "metadata": {},
   "outputs": [],
   "source": [
    "#import libraries\n",
    "import pandas as pd"
   ]
  },
  {
   "cell_type": "code",
   "execution_count": 3,
   "id": "c23e66e8",
   "metadata": {},
   "outputs": [
    {
     "data": {
      "text/html": [
       "<div>\n",
       "<style scoped>\n",
       "    .dataframe tbody tr th:only-of-type {\n",
       "        vertical-align: middle;\n",
       "    }\n",
       "\n",
       "    .dataframe tbody tr th {\n",
       "        vertical-align: top;\n",
       "    }\n",
       "\n",
       "    .dataframe thead th {\n",
       "        text-align: right;\n",
       "    }\n",
       "</style>\n",
       "<table border=\"1\" class=\"dataframe\">\n",
       "  <thead>\n",
       "    <tr style=\"text-align: right;\">\n",
       "      <th></th>\n",
       "      <th>customer_id</th>\n",
       "      <th>Recommendation_name</th>\n",
       "      <th>Recommendation_date</th>\n",
       "      <th>suggestion_type</th>\n",
       "      <th>purchase_flag</th>\n",
       "    </tr>\n",
       "  </thead>\n",
       "  <tbody>\n",
       "    <tr>\n",
       "      <th>0</th>\n",
       "      <td>1.0</td>\n",
       "      <td>Recommend_screenguard</td>\n",
       "      <td>02-07-2021</td>\n",
       "      <td>With phone</td>\n",
       "      <td>0.0</td>\n",
       "    </tr>\n",
       "    <tr>\n",
       "      <th>1</th>\n",
       "      <td>2.0</td>\n",
       "      <td>Recommend_screenguard</td>\n",
       "      <td>03-07-2021</td>\n",
       "      <td>With phone</td>\n",
       "      <td>0.0</td>\n",
       "    </tr>\n",
       "    <tr>\n",
       "      <th>2</th>\n",
       "      <td>3.0</td>\n",
       "      <td>Recommend_screenguard</td>\n",
       "      <td>04-07-2021</td>\n",
       "      <td>With cover</td>\n",
       "      <td>1.0</td>\n",
       "    </tr>\n",
       "    <tr>\n",
       "      <th>3</th>\n",
       "      <td>4.0</td>\n",
       "      <td>Recommend_screenguard</td>\n",
       "      <td>05-07-2021</td>\n",
       "      <td>With phone</td>\n",
       "      <td>0.0</td>\n",
       "    </tr>\n",
       "    <tr>\n",
       "      <th>4</th>\n",
       "      <td>5.0</td>\n",
       "      <td>Recommend_screenguard</td>\n",
       "      <td>06-07-2021</td>\n",
       "      <td>With cover</td>\n",
       "      <td>1.0</td>\n",
       "    </tr>\n",
       "  </tbody>\n",
       "</table>\n",
       "</div>"
      ],
      "text/plain": [
       "   customer_id    Recommendation_name Recommendation_date suggestion_type  \\\n",
       "0          1.0  Recommend_screenguard          02-07-2021      With phone   \n",
       "1          2.0  Recommend_screenguard          03-07-2021      With phone   \n",
       "2          3.0  Recommend_screenguard          04-07-2021      With cover   \n",
       "3          4.0  Recommend_screenguard          05-07-2021      With phone   \n",
       "4          5.0  Recommend_screenguard          06-07-2021      With cover   \n",
       "\n",
       "   purchase_flag  \n",
       "0            0.0  \n",
       "1            0.0  \n",
       "2            1.0  \n",
       "3            0.0  \n",
       "4            1.0  "
      ]
     },
     "execution_count": 3,
     "metadata": {},
     "output_type": "execute_result"
    }
   ],
   "source": [
    "#import data\n",
    "df = pd.read_csv(\"https://raw.githubusercontent.com/raviteja-padala/Datasets/main/Screengaurd_Recommendation_data.csv\")\n",
    "df.head()"
   ]
  },
  {
   "cell_type": "markdown",
   "id": "5487f200",
   "metadata": {},
   "source": [
    "* About dataset: \n",
    "\n",
    "> The dataset includes ,customer_id ,\tRecommendation_name,\tRecommendation_date\t,suggestion_type ,\tpurchase_flag.<br>\n",
    "> - Suggestion type means The Screean gaurd is suggested with Phone or with Cover.<br>\n",
    "> - purchase_flag includes 0 means not sold, 1 indicates sold"
   ]
  },
  {
   "cell_type": "code",
   "execution_count": 5,
   "id": "392c4983",
   "metadata": {},
   "outputs": [
    {
     "data": {
      "text/plain": [
       "(870, 5)"
      ]
     },
     "execution_count": 5,
     "metadata": {},
     "output_type": "execute_result"
    }
   ],
   "source": [
    "#shape of dataset\n",
    "\n",
    "df.shape"
   ]
  },
  {
   "cell_type": "code",
   "execution_count": 9,
   "id": "d1165970",
   "metadata": {},
   "outputs": [
    {
     "data": {
      "text/plain": [
       "customer_id            159\n",
       "Recommendation_name    159\n",
       "Recommendation_date    159\n",
       "suggestion_type        159\n",
       "purchase_flag          159\n",
       "dtype: int64"
      ]
     },
     "execution_count": 9,
     "metadata": {},
     "output_type": "execute_result"
    }
   ],
   "source": [
    "#checking for null values\n",
    "\n",
    "df.isnull().sum()"
   ]
  },
  {
   "cell_type": "code",
   "execution_count": 10,
   "id": "604309fe",
   "metadata": {},
   "outputs": [],
   "source": [
    "#dropping null values\n",
    "\n",
    "df.dropna(inplace =True)"
   ]
  },
  {
   "cell_type": "code",
   "execution_count": 11,
   "id": "4c5c95e7",
   "metadata": {},
   "outputs": [
    {
     "data": {
      "text/plain": [
       "(711, 5)"
      ]
     },
     "execution_count": 11,
     "metadata": {},
     "output_type": "execute_result"
    }
   ],
   "source": [
    "#shape of dataset after dropping null values\n",
    "\n",
    "df.shape"
   ]
  },
  {
   "cell_type": "code",
   "execution_count": 14,
   "id": "10bdaf30",
   "metadata": {},
   "outputs": [
    {
     "data": {
      "text/plain": [
       "suggestion_type  purchase_flag\n",
       "With cover       0.0              206\n",
       "                 1.0              130\n",
       "With phone       0.0              258\n",
       "                 1.0              117\n",
       "Name: purchase_flag, dtype: int64"
      ]
     },
     "execution_count": 14,
     "metadata": {},
     "output_type": "execute_result"
    }
   ],
   "source": [
    "#checking count in each category\n",
    "df.groupby( \"suggestion_type\" )[ \"purchase_flag\" ].value_counts()"
   ]
  },
  {
   "cell_type": "markdown",
   "id": "078af786",
   "metadata": {},
   "source": [
    "<span style='color:Blue'> **Observation:** </span> \n",
    " \n",
    "As per above group by data , we can observe that Screegaurd is sold 130 times when recommended with Cover, and Sold 117 times when recommended with phone."
   ]
  },
  {
   "cell_type": "markdown",
   "id": "e03dbe1c",
   "metadata": {},
   "source": [
    "#### Contingency Table is one of the techniques for exploring two or even more variables. It is basically a tally of counts between two or more categorical variables."
   ]
  },
  {
   "cell_type": "code",
   "execution_count": 17,
   "id": "f137cdc8",
   "metadata": {},
   "outputs": [
    {
     "data": {
      "text/html": [
       "<div>\n",
       "<style scoped>\n",
       "    .dataframe tbody tr th:only-of-type {\n",
       "        vertical-align: middle;\n",
       "    }\n",
       "\n",
       "    .dataframe tbody tr th {\n",
       "        vertical-align: top;\n",
       "    }\n",
       "\n",
       "    .dataframe thead th {\n",
       "        text-align: right;\n",
       "    }\n",
       "</style>\n",
       "<table border=\"1\" class=\"dataframe\">\n",
       "  <thead>\n",
       "    <tr style=\"text-align: right;\">\n",
       "      <th>purchase_flag</th>\n",
       "      <th>0.0</th>\n",
       "      <th>1.0</th>\n",
       "    </tr>\n",
       "    <tr>\n",
       "      <th>suggestion_type</th>\n",
       "      <th></th>\n",
       "      <th></th>\n",
       "    </tr>\n",
       "  </thead>\n",
       "  <tbody>\n",
       "    <tr>\n",
       "      <th>With cover</th>\n",
       "      <td>206</td>\n",
       "      <td>130</td>\n",
       "    </tr>\n",
       "    <tr>\n",
       "      <th>With phone</th>\n",
       "      <td>258</td>\n",
       "      <td>117</td>\n",
       "    </tr>\n",
       "  </tbody>\n",
       "</table>\n",
       "</div>"
      ],
      "text/plain": [
       "purchase_flag    0.0  1.0\n",
       "suggestion_type          \n",
       "With cover       206  130\n",
       "With phone       258  117"
      ]
     },
     "execution_count": 17,
     "metadata": {},
     "output_type": "execute_result"
    }
   ],
   "source": [
    "#Contingency Table\n",
    "contingency_data = pd.crosstab(df['suggestion_type'],df['purchase_flag'])\n",
    "contingency_data"
   ]
  },
  {
   "cell_type": "code",
   "execution_count": 22,
   "id": "09dda633",
   "metadata": {},
   "outputs": [
    {
     "name": "stdout",
     "output_type": "stream",
     "text": [
      "Purchase rate with phone is= 0.312, Purchase rate with cover is 0.3869047619047619\n"
     ]
    }
   ],
   "source": [
    "# compute screen gaurd purchase rate with phone and with cover\n",
    "\n",
    "\n",
    "with_phone_rate = 117 / (117 + 258)\n",
    "\n",
    "with_cover_rate = 130 / (206 + 130)\n",
    "\n",
    "\n",
    "print(f\"Purchase rate with phone is= {with_phone_rate}, Purchase rate with cover is {with_cover_rate}\")"
   ]
  },
  {
   "cell_type": "markdown",
   "id": "8e190078",
   "metadata": {},
   "source": [
    "#### Hypothesis: \n",
    "\n",
    "* Null hypothesis:  independent categories:There is no relationship between Purchase rate and Suggestion type\n",
    "\n",
    "* Alternate Hypothesis: dependent categories:There is significant relationship between Purchase rate and Suggestion type"
   ]
  },
  {
   "cell_type": "code",
   "execution_count": 24,
   "id": "ad704d71",
   "metadata": {},
   "outputs": [
    {
     "name": "stdout",
     "output_type": "stream",
     "text": [
      "Test statistic=4.062, p_values=0.044, degrees_of_freedom=1\n",
      "dependent categories:There is significant relationship between Purchase rate and Suggestion type\n"
     ]
    }
   ],
   "source": [
    "#chi square test\n",
    "from scipy.stats import chi2_contingency\n",
    "\n",
    "test_stat, p_value, dof, expected = chi2_contingency(contingency_data)\n",
    "\n",
    "print('Test statistic=%.3f, p_values=%.3f, degrees_of_freedom=%s' % (test_stat, p_value,dof))\n",
    "\n",
    "if p_value > 0.05:\n",
    "    print('independent categories:There is no relationship between Purchase rate and Suggestion type')\n",
    "else:\n",
    "    print('dependent categories:There is significant relationship between Purchase rate and Suggestion type')"
   ]
  },
  {
   "cell_type": "markdown",
   "id": "a47152a5",
   "metadata": {},
   "source": [
    "<span style='color:Blue'> **Observation:** </span> \n",
    "\n",
    "As per the above statistical test we can observe that Suggestion type has impact on sales of screen gaurd."
   ]
  },
  {
   "cell_type": "markdown",
   "id": "506ef56e",
   "metadata": {},
   "source": [
    "### Conclusion: We have performed A/B testing on given data and observed that Suggestion type has significant impact on sales of screengaurd, thus by increasing screangaurd suggestion with cover will increase more sales of screengaurd. Thank you for reading all the way to the end."
   ]
  }
 ],
 "metadata": {
  "kernelspec": {
   "display_name": "Python 3 (ipykernel)",
   "language": "python",
   "name": "python3"
  },
  "language_info": {
   "codemirror_mode": {
    "name": "ipython",
    "version": 3
   },
   "file_extension": ".py",
   "mimetype": "text/x-python",
   "name": "python",
   "nbconvert_exporter": "python",
   "pygments_lexer": "ipython3",
   "version": "3.9.12"
  }
 },
 "nbformat": 4,
 "nbformat_minor": 5
}
